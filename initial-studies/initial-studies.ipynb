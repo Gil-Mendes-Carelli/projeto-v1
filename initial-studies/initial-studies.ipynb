{
 "cells": [
  {
   "cell_type": "markdown",
   "id": "6027f79d",
   "metadata": {},
   "source": [
    "# connecting to ollama's server.\n"
   ]
  },
  {
   "cell_type": "code",
   "execution_count": 2,
   "id": "c768bb2c",
   "metadata": {},
   "outputs": [
    {
     "name": "stdout",
     "output_type": "stream",
     "text": [
      "Resposta completa da API:\n",
      "• llama3.3:latest\n",
      "  Tamanho: 39.60 GB\n",
      "\n",
      "• L3.1-corretor-enem:latest\n",
      "  Tamanho: 4.58 GB\n",
      "\n",
      "• gemma3:27b\n",
      "  Tamanho: 16.20 GB\n",
      "\n",
      "• llama3.1:70b\n",
      "  Tamanho: 39.60 GB\n",
      "\n",
      "• deepseek-r1:14b\n",
      "  Tamanho: 8.37 GB\n",
      "\n",
      "• llama3.1:latest\n",
      "  Tamanho: 4.58 GB\n",
      "\n",
      "\n"
     ]
    }
   ],
   "source": [
    "import ollama\n",
    "from dotenv import load_dotenv\n",
    "import os\n",
    "\n",
    "# Carregar variáveis de ambiente\n",
    "load_dotenv()\n",
    "\n",
    "# Configurar o cliente para o host remoto\n",
    "client = ollama.Client(host=os.getenv(\"OLLAMA_HOST\"))\n",
    "\n",
    "# wtf\n",
    "formatted_output = \"\"\n",
    "# Listar modelos disponíveis\n",
    "try:\n",
    "    response = client.list()\n",
    "    if response:\n",
    "        print(\"Resposta completa da API:\")\n",
    "\n",
    "        # Exibir modelos de forma mais legível\n",
    "        for model in response[\"models\"]:\n",
    "            # Acessando os atributos corretamente do objeto Model\n",
    "            model_name = model.model\n",
    "            model_size = model.size\n",
    "\n",
    "            # Formatando o tamanho para uma representação mais legível\n",
    "            size_gb = model_size / (1024**3)  # Converter bytes para GB\n",
    "\n",
    "            formatted_output += f\"• {model_name}\\n\"\n",
    "            formatted_output += f\"  Tamanho: {size_gb:.2f} GB\\n\"\n",
    "            formatted_output += \"\\n\"\n",
    "        print(formatted_output)\n",
    "    else:\n",
    "        print(\"Não foi possível obter a lista de modelos.\")\n",
    "\n",
    "except Exception as e:\n",
    "    print(f\"Erro ao conectar com o servidor Ollama: {e}\")"
   ]
  }
 ],
 "metadata": {
  "kernelspec": {
   "display_name": ".venv (3.11.9)",
   "language": "python",
   "name": "python3"
  },
  "language_info": {
   "codemirror_mode": {
    "name": "ipython",
    "version": 3
   },
   "file_extension": ".py",
   "mimetype": "text/x-python",
   "name": "python",
   "nbconvert_exporter": "python",
   "pygments_lexer": "ipython3",
   "version": "3.11.9"
  }
 },
 "nbformat": 4,
 "nbformat_minor": 5
}
