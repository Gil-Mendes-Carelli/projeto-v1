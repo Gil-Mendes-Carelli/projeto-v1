{
 "cells": [
  {
   "cell_type": "markdown",
   "id": "e8369d89",
   "metadata": {},
   "source": [
    "    # Testing openai client load and listing available models"
   ]
  },
  {
   "cell_type": "code",
   "execution_count": 5,
   "id": "327a8f35",
   "metadata": {},
   "outputs": [
    {
     "name": "stdout",
     "output_type": "stream",
     "text": [
      "['gpt-4-0613', 'gpt-4', 'gpt-3.5-turbo', 'gpt-5-search-api-2025-10-14', 'gpt-realtime-mini']\n"
     ]
    }
   ],
   "source": [
    "from typing import List\n",
    "from openai import OpenAI\n",
    "from config_openai import get_openai_client\n",
    "\n",
    "client: OpenAI = get_openai_client()\n",
    "\n",
    "# retrieving the models:\n",
    "models: List[OpenAI] = client.models.list()\n",
    "\n",
    "print([m.id for m in models.data[:5]])"
   ]
  },
  {
   "cell_type": "markdown",
   "id": "b2f74c81",
   "metadata": {},
   "source": [
    "# trying to ask something to chatGPT"
   ]
  },
  {
   "cell_type": "code",
   "execution_count": 21,
   "id": "2a169d42",
   "metadata": {},
   "outputs": [],
   "source": [
    "from typing import Any\n",
    "\n",
    "# messages / prompts send to the model\n",
    "messages = [\n",
    "    {\"role\": \"system\", \"content\": \"You are a poet from renaissance.\"},\n",
    "    {\n",
    "        \"role\": \"user\",\n",
    "        \"content\": \"Create a poem in portuguese, in the renaissance style,\"\n",
    "        + \"about the beauties of Brazil's natural riches. Number of words limit is 60\",\n",
    "    },\n",
    "]\n",
    "\n",
    "\n",
    "def querying_gpt(\n",
    "    messages: str, client: OpenAI = client, model: str = models.data[0].id\n",
    ") -> str:\n",
    "    answer: Any = client.chat.completions.create(\n",
    "        model=model, messages=messages, temperature=0.7\n",
    "    )\n",
    "\n",
    "    return answer.choices[0].message.content"
   ]
  },
  {
   "cell_type": "code",
   "execution_count": 22,
   "id": "19c03bbc",
   "metadata": {},
   "outputs": [
    {
     "name": "stdout",
     "output_type": "stream",
     "text": [
      "Oh Brasil, terra de encanto e luz,\n",
      "Onde o ouro brilha e o cristal reluz.\n",
      "Verde a perder de vista, céu azul profundo,\n",
      "Neste solo fértil, o mundo encontro no segundo.\n",
      "\n",
      "Rios que dançam, montanhas que deslumbram,\n",
      "Florestas que abrigam, e as almas acalantam.\n",
      "Frutos de cores vivas, aves que encantam,\n",
      "Nesta terra abençoada, onde as belezas nunca faltam.\n",
      "\n",
      "Oh Brasil, de riquezas naturais, reino grandioso,\n",
      "Teu esplendor ecoa, no universo, majestosamente glorioso.\n"
     ]
    }
   ],
   "source": [
    "answer = querying_gpt(messages=messages)\n",
    "\n",
    "print(answer)"
   ]
  },
  {
   "cell_type": "markdown",
   "id": "a2d3685a",
   "metadata": {},
   "source": [
    "# Loadind pdf files"
   ]
  },
  {
   "cell_type": "code",
   "execution_count": 27,
   "id": "7ee6b9f3",
   "metadata": {},
   "outputs": [],
   "source": [
    "from pathlib import Path\n",
    "from typing import List, Optional\n",
    "\n",
    "def single_pdf_loader(file: Path) -> Path:\n",
    "    if not file.exists() or not file.is_file():\n",
    "        raise FileNotFoundError(f\"Arquivo não encontrado: {file}\")\n",
    "    if file.suffix.lower() != \".pdf\":\n",
    "        raise FileNotFoundError(f\"O arquivo não é PDF válido: {file}\")\n",
    "    return file\n",
    "\n",
    "\n",
    "def multi_pdf_loader(path: Path) -> List[Path]:\n",
    "    if not path.exists() or not path.is_dir():\n",
    "        raise FileNotFoundError(f\"Diretório não encontrado: {path}\")\n",
    "\n",
    "    pdf_files = list(path.glob(\"*.pdf\"))\n",
    "    if not pdf_files:\n",
    "        raise FileNotFoundError(f\"Nenhum PDF encontrado no diretório: {path}\")\n",
    "    return pdf_files\n",
    "\n",
    "\n",
    "def pdf_loader(path: str) -> List[Path]:\n",
    "    if path.is_file():\n",
    "        return [single_pdf_loader(path)]\n",
    "    elif path.is_dir():\n",
    "        return multi_pdf_loader(path)\n",
    "    else:\n",
    "        raise FileNotFoundError(f\"Caminho inválido: {path}\")"
   ]
  },
  {
   "cell_type": "code",
   "execution_count": null,
   "id": "eb473653",
   "metadata": {},
   "outputs": [],
   "source": []
  },
  {
   "cell_type": "markdown",
   "id": "736cd343",
   "metadata": {},
   "source": [
    "# Listing openai's models   "
   ]
  },
  {
   "cell_type": "code",
   "execution_count": null,
   "id": "1c5e2714",
   "metadata": {},
   "outputs": [],
   "source": [
    "# from openai import OpenAI\n",
    "\n",
    "# def models_list_to_dict(client: OpenAI) -> dict[str, str]:\n",
    "    \n",
    "#     models = client.models.list()\n",
    "#     models_dict = {models.id: models.id for models in models.data}  \n",
    "#     return models_dict"
   ]
  },
  {
   "cell_type": "code",
   "execution_count": null,
   "id": "2568487e",
   "metadata": {},
   "outputs": [
    {
     "name": "stdout",
     "output_type": "stream",
     "text": [
      "{'gpt-4-0613': 'gpt-4-0613', 'gpt-4': 'gpt-4', 'gpt-3.5-turbo': 'gpt-3.5-turbo', 'gpt-5-search-api-2025-10-14': 'gpt-5-search-api-2025-10-14', 'gpt-realtime-mini': 'gpt-realtime-mini', 'gpt-realtime-mini-2025-10-06': 'gpt-realtime-mini-2025-10-06', 'sora-2': 'sora-2', 'sora-2-pro': 'sora-2-pro', 'davinci-002': 'davinci-002', 'babbage-002': 'babbage-002', 'gpt-3.5-turbo-instruct': 'gpt-3.5-turbo-instruct', 'gpt-3.5-turbo-instruct-0914': 'gpt-3.5-turbo-instruct-0914', 'dall-e-3': 'dall-e-3', 'dall-e-2': 'dall-e-2', 'gpt-4-1106-preview': 'gpt-4-1106-preview', 'gpt-3.5-turbo-1106': 'gpt-3.5-turbo-1106', 'tts-1-hd': 'tts-1-hd', 'tts-1-1106': 'tts-1-1106', 'tts-1-hd-1106': 'tts-1-hd-1106', 'text-embedding-3-small': 'text-embedding-3-small', 'text-embedding-3-large': 'text-embedding-3-large', 'gpt-4-0125-preview': 'gpt-4-0125-preview', 'gpt-4-turbo-preview': 'gpt-4-turbo-preview', 'gpt-3.5-turbo-0125': 'gpt-3.5-turbo-0125', 'gpt-4-turbo': 'gpt-4-turbo', 'gpt-4-turbo-2024-04-09': 'gpt-4-turbo-2024-04-09', 'gpt-4o': 'gpt-4o', 'gpt-4o-2024-05-13': 'gpt-4o-2024-05-13', 'gpt-4o-mini-2024-07-18': 'gpt-4o-mini-2024-07-18', 'gpt-4o-mini': 'gpt-4o-mini', 'gpt-4o-2024-08-06': 'gpt-4o-2024-08-06', 'chatgpt-4o-latest': 'chatgpt-4o-latest', 'o1-mini-2024-09-12': 'o1-mini-2024-09-12', 'o1-mini': 'o1-mini', 'gpt-4o-realtime-preview-2024-10-01': 'gpt-4o-realtime-preview-2024-10-01', 'gpt-4o-audio-preview-2024-10-01': 'gpt-4o-audio-preview-2024-10-01', 'gpt-4o-audio-preview': 'gpt-4o-audio-preview', 'gpt-4o-realtime-preview': 'gpt-4o-realtime-preview', 'omni-moderation-latest': 'omni-moderation-latest', 'omni-moderation-2024-09-26': 'omni-moderation-2024-09-26', 'gpt-4o-realtime-preview-2024-12-17': 'gpt-4o-realtime-preview-2024-12-17', 'gpt-4o-audio-preview-2024-12-17': 'gpt-4o-audio-preview-2024-12-17', 'gpt-4o-mini-realtime-preview-2024-12-17': 'gpt-4o-mini-realtime-preview-2024-12-17', 'gpt-4o-mini-audio-preview-2024-12-17': 'gpt-4o-mini-audio-preview-2024-12-17', 'o1-2024-12-17': 'o1-2024-12-17', 'o1': 'o1', 'gpt-4o-mini-realtime-preview': 'gpt-4o-mini-realtime-preview', 'gpt-4o-mini-audio-preview': 'gpt-4o-mini-audio-preview', 'o3-mini': 'o3-mini', 'o3-mini-2025-01-31': 'o3-mini-2025-01-31', 'gpt-4o-2024-11-20': 'gpt-4o-2024-11-20', 'gpt-4o-search-preview-2025-03-11': 'gpt-4o-search-preview-2025-03-11', 'gpt-4o-search-preview': 'gpt-4o-search-preview', 'gpt-4o-mini-search-preview-2025-03-11': 'gpt-4o-mini-search-preview-2025-03-11', 'gpt-4o-mini-search-preview': 'gpt-4o-mini-search-preview', 'gpt-4o-transcribe': 'gpt-4o-transcribe', 'gpt-4o-mini-transcribe': 'gpt-4o-mini-transcribe', 'o1-pro-2025-03-19': 'o1-pro-2025-03-19', 'o1-pro': 'o1-pro', 'gpt-4o-mini-tts': 'gpt-4o-mini-tts', 'o3-2025-04-16': 'o3-2025-04-16', 'o4-mini-2025-04-16': 'o4-mini-2025-04-16', 'o3': 'o3', 'o4-mini': 'o4-mini', 'gpt-4.1-2025-04-14': 'gpt-4.1-2025-04-14', 'gpt-4.1': 'gpt-4.1', 'gpt-4.1-mini-2025-04-14': 'gpt-4.1-mini-2025-04-14', 'gpt-4.1-mini': 'gpt-4.1-mini', 'gpt-4.1-nano-2025-04-14': 'gpt-4.1-nano-2025-04-14', 'gpt-4.1-nano': 'gpt-4.1-nano', 'gpt-image-1': 'gpt-image-1', 'codex-mini-latest': 'codex-mini-latest', 'gpt-4o-realtime-preview-2025-06-03': 'gpt-4o-realtime-preview-2025-06-03', 'gpt-4o-audio-preview-2025-06-03': 'gpt-4o-audio-preview-2025-06-03', 'o4-mini-deep-research': 'o4-mini-deep-research', 'gpt-4o-transcribe-diarize': 'gpt-4o-transcribe-diarize', 'o4-mini-deep-research-2025-06-26': 'o4-mini-deep-research-2025-06-26', 'gpt-5-chat-latest': 'gpt-5-chat-latest', 'gpt-5-2025-08-07': 'gpt-5-2025-08-07', 'gpt-5': 'gpt-5', 'gpt-5-mini-2025-08-07': 'gpt-5-mini-2025-08-07', 'gpt-5-mini': 'gpt-5-mini', 'gpt-5-nano-2025-08-07': 'gpt-5-nano-2025-08-07', 'gpt-5-nano': 'gpt-5-nano', 'gpt-audio-2025-08-28': 'gpt-audio-2025-08-28', 'gpt-realtime': 'gpt-realtime', 'gpt-realtime-2025-08-28': 'gpt-realtime-2025-08-28', 'gpt-audio': 'gpt-audio', 'gpt-5-codex': 'gpt-5-codex', 'gpt-image-1-mini': 'gpt-image-1-mini', 'gpt-5-pro-2025-10-06': 'gpt-5-pro-2025-10-06', 'gpt-5-pro': 'gpt-5-pro', 'gpt-audio-mini': 'gpt-audio-mini', 'gpt-audio-mini-2025-10-06': 'gpt-audio-mini-2025-10-06', 'gpt-5-search-api': 'gpt-5-search-api', 'gpt-3.5-turbo-16k': 'gpt-3.5-turbo-16k', 'tts-1': 'tts-1', 'whisper-1': 'whisper-1', 'text-embedding-ada-002': 'text-embedding-ada-002'}\n"
     ]
    }
   ],
   "source": [
    "# client = get_openai_client()\n",
    "\n",
    "# models_dict = models_list_to_dict(client=client)\n",
    "\n",
    "# print(models_dict)\n",
    "\n",
    "# the list is enough .. dont need this"
   ]
  },
  {
   "cell_type": "code",
   "execution_count": null,
   "id": "855d76a5",
   "metadata": {},
   "outputs": [],
   "source": []
  }
 ],
 "metadata": {
  "kernelspec": {
   "display_name": ".venv (3.11.9)",
   "language": "python",
   "name": "python3"
  },
  "language_info": {
   "codemirror_mode": {
    "name": "ipython",
    "version": 3
   },
   "file_extension": ".py",
   "mimetype": "text/x-python",
   "name": "python",
   "nbconvert_exporter": "python",
   "pygments_lexer": "ipython3",
   "version": "3.11.9"
  }
 },
 "nbformat": 4,
 "nbformat_minor": 5
}
